{
 "cells": [
  {
   "cell_type": "code",
   "execution_count": 1,
   "id": "55ca6cb3",
   "metadata": {},
   "outputs": [],
   "source": [
    "#Memanggil Library yang di perlukan\n",
    "import pandas as pd\n",
    "import numpy as np"
   ]
  },
  {
   "cell_type": "code",
   "execution_count": 2,
   "id": "713891d6",
   "metadata": {},
   "outputs": [
    {
     "data": {
      "text/html": [
       "<div>\n",
       "<style scoped>\n",
       "    .dataframe tbody tr th:only-of-type {\n",
       "        vertical-align: middle;\n",
       "    }\n",
       "\n",
       "    .dataframe tbody tr th {\n",
       "        vertical-align: top;\n",
       "    }\n",
       "\n",
       "    .dataframe thead th {\n",
       "        text-align: right;\n",
       "    }\n",
       "</style>\n",
       "<table border=\"1\" class=\"dataframe\">\n",
       "  <thead>\n",
       "    <tr style=\"text-align: right;\">\n",
       "      <th></th>\n",
       "      <th>Nilai B.Indonesia</th>\n",
       "      <th>Nilai B.Inggris</th>\n",
       "      <th>Nilai Matematika</th>\n",
       "      <th>Nilai Kimia</th>\n",
       "      <th>Nilai Fisika</th>\n",
       "      <th>Nilai Biologi</th>\n",
       "      <th>Sertifikat</th>\n",
       "      <th>Akreditasi</th>\n",
       "      <th>Status</th>\n",
       "    </tr>\n",
       "  </thead>\n",
       "  <tbody>\n",
       "    <tr>\n",
       "      <th>0</th>\n",
       "      <td>87.5</td>\n",
       "      <td>90.0</td>\n",
       "      <td>89.0</td>\n",
       "      <td>87.0</td>\n",
       "      <td>88.0</td>\n",
       "      <td>87.5</td>\n",
       "      <td>0</td>\n",
       "      <td>30</td>\n",
       "      <td>0</td>\n",
       "    </tr>\n",
       "    <tr>\n",
       "      <th>1</th>\n",
       "      <td>88.0</td>\n",
       "      <td>87.0</td>\n",
       "      <td>90.0</td>\n",
       "      <td>87.0</td>\n",
       "      <td>90.0</td>\n",
       "      <td>87.5</td>\n",
       "      <td>0</td>\n",
       "      <td>30</td>\n",
       "      <td>0</td>\n",
       "    </tr>\n",
       "    <tr>\n",
       "      <th>2</th>\n",
       "      <td>90.0</td>\n",
       "      <td>88.0</td>\n",
       "      <td>87.0</td>\n",
       "      <td>90.0</td>\n",
       "      <td>88.0</td>\n",
       "      <td>90.0</td>\n",
       "      <td>0</td>\n",
       "      <td>30</td>\n",
       "      <td>0</td>\n",
       "    </tr>\n",
       "    <tr>\n",
       "      <th>3</th>\n",
       "      <td>87.5</td>\n",
       "      <td>88.5</td>\n",
       "      <td>87.5</td>\n",
       "      <td>87.5</td>\n",
       "      <td>90.0</td>\n",
       "      <td>88.5</td>\n",
       "      <td>0</td>\n",
       "      <td>30</td>\n",
       "      <td>0</td>\n",
       "    </tr>\n",
       "    <tr>\n",
       "      <th>4</th>\n",
       "      <td>87.5</td>\n",
       "      <td>90.0</td>\n",
       "      <td>88.0</td>\n",
       "      <td>87.5</td>\n",
       "      <td>87.0</td>\n",
       "      <td>87.0</td>\n",
       "      <td>0</td>\n",
       "      <td>30</td>\n",
       "      <td>0</td>\n",
       "    </tr>\n",
       "  </tbody>\n",
       "</table>\n",
       "</div>"
      ],
      "text/plain": [
       "   Nilai B.Indonesia  Nilai B.Inggris  Nilai Matematika  Nilai Kimia  \\\n",
       "0               87.5             90.0              89.0         87.0   \n",
       "1               88.0             87.0              90.0         87.0   \n",
       "2               90.0             88.0              87.0         90.0   \n",
       "3               87.5             88.5              87.5         87.5   \n",
       "4               87.5             90.0              88.0         87.5   \n",
       "\n",
       "   Nilai Fisika  Nilai Biologi  Sertifikat  Akreditasi  Status  \n",
       "0          88.0           87.5           0          30       0  \n",
       "1          90.0           87.5           0          30       0  \n",
       "2          88.0           90.0           0          30       0  \n",
       "3          90.0           88.5           0          30       0  \n",
       "4          87.0           87.0           0          30       0  "
      ]
     },
     "execution_count": 2,
     "metadata": {},
     "output_type": "execute_result"
    }
   ],
   "source": [
    "#Membaca  data\n",
    "data = pd.read_excel(\"Data_SMA_IPA.xlsx\")\n",
    "data.head(5)"
   ]
  },
  {
   "cell_type": "code",
   "execution_count": 3,
   "id": "91649425",
   "metadata": {},
   "outputs": [
    {
     "name": "stdout",
     "output_type": "stream",
     "text": [
      "<class 'pandas.core.frame.DataFrame'>\n",
      "RangeIndex: 1028 entries, 0 to 1027\n",
      "Data columns (total 9 columns):\n",
      " #   Column             Non-Null Count  Dtype  \n",
      "---  ------             --------------  -----  \n",
      " 0   Nilai B.Indonesia  1028 non-null   float64\n",
      " 1   Nilai B.Inggris    1028 non-null   float64\n",
      " 2   Nilai Matematika   1028 non-null   float64\n",
      " 3   Nilai Kimia        1028 non-null   float64\n",
      " 4   Nilai Fisika       1028 non-null   float64\n",
      " 5   Nilai Biologi      1028 non-null   float64\n",
      " 6   Sertifikat         1028 non-null   int64  \n",
      " 7   Akreditasi         1028 non-null   int64  \n",
      " 8   Status             1028 non-null   int64  \n",
      "dtypes: float64(6), int64(3)\n",
      "memory usage: 72.4 KB\n"
     ]
    }
   ],
   "source": [
    "data.info()"
   ]
  },
  {
   "cell_type": "code",
   "execution_count": 4,
   "id": "38a26222",
   "metadata": {},
   "outputs": [],
   "source": [
    "#Menspresifikan Tipe Data nya apa? Integrer(int) atau Float(float)\n",
    "df = data.astype(int)"
   ]
  },
  {
   "cell_type": "code",
   "execution_count": 5,
   "id": "26ba73e3",
   "metadata": {},
   "outputs": [
    {
     "data": {
      "text/html": [
       "<div>\n",
       "<style scoped>\n",
       "    .dataframe tbody tr th:only-of-type {\n",
       "        vertical-align: middle;\n",
       "    }\n",
       "\n",
       "    .dataframe tbody tr th {\n",
       "        vertical-align: top;\n",
       "    }\n",
       "\n",
       "    .dataframe thead th {\n",
       "        text-align: right;\n",
       "    }\n",
       "</style>\n",
       "<table border=\"1\" class=\"dataframe\">\n",
       "  <thead>\n",
       "    <tr style=\"text-align: right;\">\n",
       "      <th></th>\n",
       "      <th>Nilai B.Indonesia</th>\n",
       "      <th>Nilai B.Inggris</th>\n",
       "      <th>Nilai Matematika</th>\n",
       "      <th>Nilai Kimia</th>\n",
       "      <th>Nilai Fisika</th>\n",
       "      <th>Nilai Biologi</th>\n",
       "      <th>Sertifikat</th>\n",
       "      <th>Akreditasi</th>\n",
       "    </tr>\n",
       "  </thead>\n",
       "  <tbody>\n",
       "    <tr>\n",
       "      <th>0</th>\n",
       "      <td>87</td>\n",
       "      <td>90</td>\n",
       "      <td>89</td>\n",
       "      <td>87</td>\n",
       "      <td>88</td>\n",
       "      <td>87</td>\n",
       "      <td>0</td>\n",
       "      <td>30</td>\n",
       "    </tr>\n",
       "    <tr>\n",
       "      <th>1</th>\n",
       "      <td>88</td>\n",
       "      <td>87</td>\n",
       "      <td>90</td>\n",
       "      <td>87</td>\n",
       "      <td>90</td>\n",
       "      <td>87</td>\n",
       "      <td>0</td>\n",
       "      <td>30</td>\n",
       "    </tr>\n",
       "    <tr>\n",
       "      <th>2</th>\n",
       "      <td>90</td>\n",
       "      <td>88</td>\n",
       "      <td>87</td>\n",
       "      <td>90</td>\n",
       "      <td>88</td>\n",
       "      <td>90</td>\n",
       "      <td>0</td>\n",
       "      <td>30</td>\n",
       "    </tr>\n",
       "    <tr>\n",
       "      <th>3</th>\n",
       "      <td>87</td>\n",
       "      <td>88</td>\n",
       "      <td>87</td>\n",
       "      <td>87</td>\n",
       "      <td>90</td>\n",
       "      <td>88</td>\n",
       "      <td>0</td>\n",
       "      <td>30</td>\n",
       "    </tr>\n",
       "    <tr>\n",
       "      <th>4</th>\n",
       "      <td>87</td>\n",
       "      <td>90</td>\n",
       "      <td>88</td>\n",
       "      <td>87</td>\n",
       "      <td>87</td>\n",
       "      <td>87</td>\n",
       "      <td>0</td>\n",
       "      <td>30</td>\n",
       "    </tr>\n",
       "    <tr>\n",
       "      <th>5</th>\n",
       "      <td>90</td>\n",
       "      <td>87</td>\n",
       "      <td>90</td>\n",
       "      <td>87</td>\n",
       "      <td>87</td>\n",
       "      <td>90</td>\n",
       "      <td>10</td>\n",
       "      <td>30</td>\n",
       "    </tr>\n",
       "    <tr>\n",
       "      <th>6</th>\n",
       "      <td>87</td>\n",
       "      <td>87</td>\n",
       "      <td>88</td>\n",
       "      <td>90</td>\n",
       "      <td>87</td>\n",
       "      <td>87</td>\n",
       "      <td>10</td>\n",
       "      <td>30</td>\n",
       "    </tr>\n",
       "    <tr>\n",
       "      <th>7</th>\n",
       "      <td>87</td>\n",
       "      <td>87</td>\n",
       "      <td>90</td>\n",
       "      <td>88</td>\n",
       "      <td>87</td>\n",
       "      <td>87</td>\n",
       "      <td>10</td>\n",
       "      <td>30</td>\n",
       "    </tr>\n",
       "    <tr>\n",
       "      <th>8</th>\n",
       "      <td>88</td>\n",
       "      <td>88</td>\n",
       "      <td>87</td>\n",
       "      <td>87</td>\n",
       "      <td>88</td>\n",
       "      <td>88</td>\n",
       "      <td>10</td>\n",
       "      <td>30</td>\n",
       "    </tr>\n",
       "    <tr>\n",
       "      <th>9</th>\n",
       "      <td>90</td>\n",
       "      <td>88</td>\n",
       "      <td>87</td>\n",
       "      <td>90</td>\n",
       "      <td>87</td>\n",
       "      <td>90</td>\n",
       "      <td>10</td>\n",
       "      <td>30</td>\n",
       "    </tr>\n",
       "  </tbody>\n",
       "</table>\n",
       "</div>"
      ],
      "text/plain": [
       "   Nilai B.Indonesia  Nilai B.Inggris  Nilai Matematika  Nilai Kimia  \\\n",
       "0                 87               90                89           87   \n",
       "1                 88               87                90           87   \n",
       "2                 90               88                87           90   \n",
       "3                 87               88                87           87   \n",
       "4                 87               90                88           87   \n",
       "5                 90               87                90           87   \n",
       "6                 87               87                88           90   \n",
       "7                 87               87                90           88   \n",
       "8                 88               88                87           87   \n",
       "9                 90               88                87           90   \n",
       "\n",
       "   Nilai Fisika  Nilai Biologi  Sertifikat  Akreditasi  \n",
       "0            88             87           0          30  \n",
       "1            90             87           0          30  \n",
       "2            88             90           0          30  \n",
       "3            90             88           0          30  \n",
       "4            87             87           0          30  \n",
       "5            87             90          10          30  \n",
       "6            87             87          10          30  \n",
       "7            87             87          10          30  \n",
       "8            88             88          10          30  \n",
       "9            87             90          10          30  "
      ]
     },
     "execution_count": 5,
     "metadata": {},
     "output_type": "execute_result"
    }
   ],
   "source": [
    "#Memindahkan Status (Lolos/Tidak Lolos) Dari Variabel X ke Variabel Y\n",
    "x= df.drop([\"Status\"], axis=1)\n",
    "x.head(10)"
   ]
  },
  {
   "cell_type": "code",
   "execution_count": 6,
   "id": "1cf09ccc",
   "metadata": {},
   "outputs": [
    {
     "data": {
      "text/plain": [
       "0    0\n",
       "1    0\n",
       "2    0\n",
       "3    0\n",
       "4    0\n",
       "Name: Status, dtype: int32"
      ]
     },
     "execution_count": 6,
     "metadata": {},
     "output_type": "execute_result"
    }
   ],
   "source": [
    "y= df[\"Status\"]\n",
    "y.head(5)"
   ]
  },
  {
   "cell_type": "code",
   "execution_count": 7,
   "id": "0d98d335",
   "metadata": {},
   "outputs": [],
   "source": [
    "#Setelah X dan Y kita pisah\n",
    "#Baru menggunakan Metode Naive Bayes dan memanggil Libarynya\n",
    "from sklearn.naive_bayes import GaussianNB"
   ]
  },
  {
   "cell_type": "code",
   "execution_count": 8,
   "id": "83d485a9",
   "metadata": {},
   "outputs": [],
   "source": [
    "# Memanggil Fungsi Gaussian Naive Bayes\n",
    "# Membuat Variabel Baru namanya maung\n",
    "maung = GaussianNB()"
   ]
  },
  {
   "cell_type": "code",
   "execution_count": 9,
   "id": "8c49b2c7",
   "metadata": {},
   "outputs": [],
   "source": [
    "# Memasukkan Data Training pada fungsi Klasifikasi Naive Bayes\n",
    "# membuat Variabel baru data training\n",
    "data_training = maung.fit(x,y)"
   ]
  },
  {
   "cell_type": "code",
   "execution_count": 10,
   "id": "3c60732a",
   "metadata": {},
   "outputs": [
    {
     "name": "stdout",
     "output_type": "stream",
     "text": [
      "[0 0 0 ... 1 1 1]\n"
     ]
    }
   ],
   "source": [
    "#Setelah Membuat Data Training \n",
    "# Langsung Melakukan Prediksi pada data Training\n",
    "\n",
    "y_predict = data_training.predict(x)\n",
    "print (y_predict)"
   ]
  },
  {
   "cell_type": "code",
   "execution_count": 11,
   "id": "2caaf2e2",
   "metadata": {},
   "outputs": [
    {
     "name": "stdout",
     "output_type": "stream",
     "text": [
      "Silakan Isi Nilai Rata-Rata Rapot Nilai B.Indonesia : 90\n",
      "Silakan Isi Nilai Rata-Rata Rapot Nilai B.Inggris : 90\n",
      "Silakan Isi Nilai Rata-Rata Rapot Nilai Matematika : 90\n",
      "Silakan Isi Nilai Rata-Rata Rapot Nilai Kimia : 90\n",
      "Silakan Isi Nilai Rata-Rata Rapot Nilai Fisika : 90\n",
      "Silakan Isi Nilai Rata-Rata Rapot Nilai Biologi : 90\n",
      "Silakan Isi Jenis Sertifikat : 10\n",
      "Silakan Isi Akreditasi Sekolahmu : 30\n"
     ]
    }
   ],
   "source": [
    "#Membuat Input Data untuk di prediksi\n",
    "Nilai_BIndonesia = int(input(\"Silakan Isi Nilai Rata-Rata Rapot Nilai B.Indonesia : \"))\n",
    "Nilai_BInggris = int(input(\"Silakan Isi Nilai Rata-Rata Rapot Nilai B.Inggris : \"))\n",
    "Nilai_Matematika = int(input(\"Silakan Isi Nilai Rata-Rata Rapot Nilai Matematika : \"))\n",
    "Nilai_Kimia = int(input(\"Silakan Isi Nilai Rata-Rata Rapot Nilai Kimia : \"))\n",
    "Nilai_Fisika = int(input(\"Silakan Isi Nilai Rata-Rata Rapot Nilai Fisika : \"))\n",
    "Nilai_Biologi = int(input(\"Silakan Isi Nilai Rata-Rata Rapot Nilai Biologi : \"))\n",
    "Sertifikat = int(input(\"Silakan Isi Jenis Sertifikat : \"))\n",
    "Akreditasi_Sekolah = int(input(\"Silakan Isi Akreditasi Sekolahmu : \"))\n",
    "#Menggabungkan input data yang ingin diprediksi\n",
    "data_testing = [[Nilai_BIndonesia, Nilai_BInggris, Nilai_Matematika, Nilai_Kimia, Nilai_Fisika, Nilai_Biologi, Sertifikat, Akreditasi_Sekolah]]"
   ]
  },
  {
   "cell_type": "code",
   "execution_count": 12,
   "id": "66331fcb",
   "metadata": {},
   "outputs": [
    {
     "name": "stderr",
     "output_type": "stream",
     "text": [
      "C:\\Users\\user\\anaconda3\\lib\\site-packages\\sklearn\\base.py:450: UserWarning: X does not have valid feature names, but GaussianNB was fitted with feature names\n",
      "  warnings.warn(\n"
     ]
    }
   ],
   "source": [
    "# Melakukan Prediksi Berdasarkan data input\n",
    "y_pred = data_training.predict(data_testing)"
   ]
  },
  {
   "cell_type": "code",
   "execution_count": 13,
   "id": "d5823eea",
   "metadata": {},
   "outputs": [
    {
     "name": "stdout",
     "output_type": "stream",
     "text": [
      "Prediksi Peluang Keperguruan Tinggi Yang Anda Impikan Adalah Lulus\n"
     ]
    }
   ],
   "source": [
    "#Mencetak Hasil Prediksi Kelulusan Mahasiswa\n",
    "# Hasil 0 -> Lulus\n",
    "# Hasil 1 => Tidak Lulus\n",
    "\n",
    "if y_pred == 0:\n",
    "  hasil = \"Lulus\"\n",
    "\n",
    "elif y_pred == 1:\n",
    "  hasil = \"Tidak Lulus\"\n",
    "\n",
    "else:\n",
    "  hasil = \"eror\"\n",
    "\n",
    "print(\"Prediksi Peluang Keperguruan Tinggi Yang Anda Impikan Adalah\", hasil)"
   ]
  },
  {
   "cell_type": "code",
   "execution_count": 14,
   "id": "5932621b",
   "metadata": {},
   "outputs": [
    {
     "name": "stdout",
     "output_type": "stream",
     "text": [
      "Nilai Akurasi Kebenaran Prediksi Program adalah = 0.74%\n"
     ]
    }
   ],
   "source": [
    "#Menghitung Persentase Keakuratan Prediksi\n",
    "from sklearn.metrics import accuracy_score\n",
    "print(\"Nilai Akurasi Kebenaran Prediksi Program adalah = %0.2f%%\"% accuracy_score(y,y_predict))"
   ]
  },
  {
   "cell_type": "code",
   "execution_count": 15,
   "id": "63b1cd72",
   "metadata": {},
   "outputs": [
    {
     "name": "stdout",
     "output_type": "stream",
     "text": [
      "              precision    recall  f1-score   support\n",
      "\n",
      "           0       0.73      0.96      0.83       668\n",
      "           1       0.82      0.33      0.47       360\n",
      "\n",
      "    accuracy                           0.74      1028\n",
      "   macro avg       0.77      0.64      0.65      1028\n",
      "weighted avg       0.76      0.74      0.70      1028\n",
      "\n"
     ]
    }
   ],
   "source": [
    "#Mencetak Laporan Hasil Klasifikasi\n",
    "from sklearn.metrics import classification_report\n",
    "print(classification_report(y,y_predict))"
   ]
  },
  {
   "cell_type": "code",
   "execution_count": 16,
   "id": "a27a2038",
   "metadata": {},
   "outputs": [
    {
     "data": {
      "text/plain": [
       "['finalized_model.sav']"
      ]
     },
     "execution_count": 16,
     "metadata": {},
     "output_type": "execute_result"
    }
   ],
   "source": [
    "import joblib\n",
    "\n",
    "filename = 'finalized_model.sav'\n",
    "joblib.dump(data_training, filename)"
   ]
  }
 ],
 "metadata": {
  "kernelspec": {
   "display_name": "Python 3 (ipykernel)",
   "language": "python",
   "name": "python3"
  },
  "language_info": {
   "codemirror_mode": {
    "name": "ipython",
    "version": 3
   },
   "file_extension": ".py",
   "mimetype": "text/x-python",
   "name": "python",
   "nbconvert_exporter": "python",
   "pygments_lexer": "ipython3",
   "version": "3.9.12"
  }
 },
 "nbformat": 4,
 "nbformat_minor": 5
}
